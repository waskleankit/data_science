{
 "cells": [
  {
   "cell_type": "code",
   "execution_count": 1,
   "id": "ea3d2776-ff62-4a7d-9972-1bbbf9cafc73",
   "metadata": {},
   "outputs": [
    {
     "name": "stdout",
     "output_type": "stream",
     "text": [
      "ANKIt\n"
     ]
    }
   ],
   "source": [
    "print(\"ANKIt\")"
   ]
  },
  {
   "cell_type": "code",
   "execution_count": null,
   "id": "3036ea9a-96ea-44a4-b321-1ff4c4e8421e",
   "metadata": {},
   "outputs": [],
   "source": []
  }
 ],
 "metadata": {
  "kernelspec": {
   "display_name": "Python 3 (ipykernel)",
   "language": "python",
   "name": "python3"
  },
  "language_info": {
   "codemirror_mode": {
    "name": "ipython",
    "version": 3
   },
   "file_extension": ".py",
   "mimetype": "text/x-python",
   "name": "python",
   "nbconvert_exporter": "python",
   "pygments_lexer": "ipython3",
   "version": "3.11.4"
  }
 },
 "nbformat": 4,
 "nbformat_minor": 5
}
